{
 "cells": [
  {
   "cell_type": "code",
   "execution_count": 1,
   "metadata": {},
   "outputs": [],
   "source": [
    "import sys\n",
    "sys.path = list(set(sys.path+[\n",
    "    '../src'\n",
    "]))\n",
    "\n",
    "from limes_x.workflow import Workflow, Item\n",
    "from limes_x.compute_module import ComputeModule, Params\n",
    "from limes_x.executors import CondaExecutor\n",
    "from pathlib import Path"
   ]
  },
  {
   "cell_type": "code",
   "execution_count": 2,
   "metadata": {},
   "outputs": [
    {
     "name": "stdout",
     "output_type": "stream",
     "text": [
      "module [echo] already exits! skipping...\n"
     ]
    },
    {
     "data": {
      "text/plain": [
       "<m:echo>"
      ]
     },
     "execution_count": 2,
     "metadata": {},
     "output_type": "execute_result"
    }
   ],
   "source": [
    "cm = ComputeModule.GenerateTemplate(\"./test_modules\", \"echo\", on_exist='skip')\n",
    "cm"
   ]
  },
  {
   "cell_type": "code",
   "execution_count": 4,
   "metadata": {},
   "outputs": [
    {
     "name": "stdout",
     "output_type": "stream",
     "text": [
      "\n",
      "starting echo [062c9e] >>>>>>>>>>>>>>>>>>>>>>>>>>>>>>>>>>>>>\n",
      "{<i:test_text>: PosixPath('inputs/hello_world.txt')}\n",
      "contents to echo: test\n",
      "\r"
     ]
    }
   ],
   "source": [
    "wf = Workflow(\"./test_modules/\")\n",
    "wf.Run(\n",
    "    \"./cache/ws02\",\n",
    "    targets=[Item('test_echo')], # [ pathway network, MAGs, annotations against COG, ... ]\n",
    "    given={\n",
    "        Item('test_text'): Path('./cache/hello_world.txt'), # { fastqs: [ sample1, sample 2 ] }\n",
    "    },\n",
    "    executor=CondaExecutor(\"metawf\"),\n",
    "    params=Params(\n",
    "        \n",
    "        file_system_wait_sec=1,\n",
    "    )\n",
    ")"
   ]
  }
 ],
 "metadata": {
  "kernelspec": {
   "display_name": "p310",
   "language": "python",
   "name": "python3"
  },
  "language_info": {
   "codemirror_mode": {
    "name": "ipython",
    "version": 3
   },
   "file_extension": ".py",
   "mimetype": "text/x-python",
   "name": "python",
   "nbconvert_exporter": "python",
   "pygments_lexer": "ipython3",
   "version": "3.10.4 (main, Mar 31 2022, 08:41:55) [GCC 7.5.0]"
  },
  "orig_nbformat": 4,
  "vscode": {
   "interpreter": {
    "hash": "c8f725649b31326fc0e22e333f2c8850abeadb8c2cc56ac0e5c0ebd2bf29f7a8"
   }
  }
 },
 "nbformat": 4,
 "nbformat_minor": 2
}
