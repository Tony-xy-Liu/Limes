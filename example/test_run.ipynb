{
 "cells": [
  {
   "cell_type": "code",
   "execution_count": 1,
   "metadata": {},
   "outputs": [],
   "source": [
    "from metaworkflow.workflow import Workflow, Item\n",
    "from metaworkflow.compute_module import ComputeModule, Params\n",
    "from metaworkflow.executors import CondaExecutor\n",
    "from pathlib import Path"
   ]
  },
  {
   "cell_type": "code",
   "execution_count": 2,
   "metadata": {},
   "outputs": [
    {
     "name": "stdout",
     "output_type": "stream",
     "text": [
      "module [echo] already exits! skipping...\n"
     ]
    },
    {
     "data": {
      "text/plain": [
       "<m:echo>"
      ]
     },
     "execution_count": 2,
     "metadata": {},
     "output_type": "execute_result"
    }
   ],
   "source": [
    "cm = ComputeModule.GenerateTemplate(\"./test_modules\", \"echo\", on_exist='skip')\n",
    "cm"
   ]
  },
  {
   "cell_type": "code",
   "execution_count": 3,
   "metadata": {},
   "outputs": [
    {
     "name": "stdout",
     "output_type": "stream",
     "text": [
      "nothing to do\n"
     ]
    }
   ],
   "source": [
    "wf = Workflow(\"./test_modules/\")\n",
    "wf.Run(\n",
    "    \"./cache/ws01\",\n",
    "    targets=[Item('test_echo')],\n",
    "    given={\n",
    "        Item('test_text'): Path('./cache/hello_world.txt'),\n",
    "    },\n",
    "    executor=CondaExecutor(\"metawf\"),\n",
    "    params=Params(\n",
    "        file_system_wait_sec=1,\n",
    "    )\n",
    ")"
   ]
  }
 ],
 "metadata": {
  "kernelspec": {
   "display_name": "metawf",
   "language": "python",
   "name": "python3"
  },
  "language_info": {
   "codemirror_mode": {
    "name": "ipython",
    "version": 3
   },
   "file_extension": ".py",
   "mimetype": "text/x-python",
   "name": "python",
   "nbconvert_exporter": "python",
   "pygments_lexer": "ipython3",
   "version": "3.10.8 (main, Nov 24 2022, 14:13:03) [GCC 11.2.0]"
  },
  "orig_nbformat": 4,
  "vscode": {
   "interpreter": {
    "hash": "43f9159b3ab9013b5d2c77fce5d68f84cd0a1336435f0b63e0e00cf606bc2704"
   }
  }
 },
 "nbformat": 4,
 "nbformat_minor": 2
}
